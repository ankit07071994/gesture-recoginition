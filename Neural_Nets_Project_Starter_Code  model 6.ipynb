{
 "cells": [
  {
   "cell_type": "markdown",
   "metadata": {},
   "source": [
    "# Gesture Recognition\n",
    "In this group project, you are going to build a 3D Conv model that will be able to predict the 5 gestures correctly. Please import the following libraries to get started."
   ]
  },
  {
   "cell_type": "code",
   "execution_count": 1,
   "metadata": {},
   "outputs": [],
   "source": [
    "import numpy as np\n",
    "import os\n",
    "\n",
    "from scipy.misc import imread, imresize\n",
    "import datetime\n",
    "import os"
   ]
  },
  {
   "cell_type": "markdown",
   "metadata": {},
   "source": [
    "We set the random seed so that the results don't vary drastically."
   ]
  },
  {
   "cell_type": "code",
   "execution_count": 2,
   "metadata": {},
   "outputs": [],
   "source": [
    "np.random.seed(30)\n",
    "import random as rn\n",
    "rn.seed(30)\n",
    "import tensorflow as tf\n",
    "tf.random.set_seed(30)"
   ]
  },
  {
   "cell_type": "markdown",
   "metadata": {},
   "source": [
    "In this block, you read the folder names for training and validation. You also set the `batch_size` here. Note that you set the batch size in such a way that you are able to use the GPU in full capacity. You keep increasing the batch size until the machine throws an error."
   ]
  },
  {
   "cell_type": "code",
   "execution_count": 3,
   "metadata": {},
   "outputs": [],
   "source": [
    "train_doc = np.random.permutation(open('Project_data/train.csv').readlines())\n",
    "val_doc = np.random.permutation(open('Project_data/val.csv').readlines())\n",
    "batch_size = 16"
   ]
  },
  {
   "cell_type": "markdown",
   "metadata": {},
   "source": [
    "## Generator\n",
    "This is one of the most important part of the code. The overall structure of the generator has been given. In the generator, you are going to preprocess the images as you have images of 2 different dimensions as well as create a batch of video frames. You have to experiment with `img_idx`, `y`,`z` and normalization such that you get high accuracy."
   ]
  },
  {
   "cell_type": "code",
   "execution_count": 4,
   "metadata": {},
   "outputs": [],
   "source": [
    "def generator(source_path, folder_list, batch_size):\n",
    "    print( 'Source path = ', source_path, '; batch size =', batch_size)\n",
    "    img_idx = [0,2,4,6,8,10,12,14,16,18,20,22,24,26,28] #create a list of image numbers you want to use for a particular video\n",
    "    while True:\n",
    "        t = np.random.permutation(folder_list)\n",
    "        num_batches = len(t)//batch_size # calculate the number of batches\n",
    "        for batch in range(num_batches): # we iterate over the number of batches\n",
    "            batch_data = np.zeros((batch_size,15,84,84,3)) # x is the number of images you use for each video, (y,z) is the final size of the input images and 3 is the number of channels RGB\n",
    "            batch_labels = np.zeros((batch_size,5)) # batch_labels is the one hot representation of the output\n",
    "            for folder in range(batch_size): # iterate over the batch_size\n",
    "                imgs = os.listdir(source_path+'/'+ t[folder + (batch*batch_size)].split(';')[0]) # read all the images in the folder\n",
    "                for idx,item in enumerate(img_idx): #  Iterate iver the frames/images of a folder to read them in\n",
    "                    image = imread(source_path+'/'+ t[folder + (batch*batch_size)].strip().split(';')[0]+'/'+imgs[item]).astype(np.float32)\n",
    "                    \n",
    "                    #crop the images and resize them. Note that the images are of 2 different shape \n",
    "                    #and the conv3D will throw error if the inputs in a batch have different shapes\n",
    "                   \n",
    "                    if image.shape[1] == 160:\n",
    "                        image = imresize(image[:,20:140,:],(84,84)).astype(np.float32)\n",
    "                    else:\n",
    "                        image = imresize(image,(84,84)).astype(np.float32)\n",
    "                    \n",
    "                    batch_data[folder,idx,:,:,0] = image[:,:,0] - 104\n",
    "                    batch_data[folder,idx,:,:,1] = image[:,:,1] - 117\n",
    "                    batch_data[folder,idx,:,:,2] = image[:,:,2] - 123\n",
    "                    \n",
    "                    \n",
    "                batch_labels[folder, int(t[folder + (batch*batch_size)].strip().split(';')[2])] = 1\n",
    "            yield batch_data, batch_labels #you yield the batch_data and the batch_labels, remember what does yield do\n",
    "\n",
    "        \n",
    "        # write the code for the remaining data points which are left after full batches\n",
    "        if(len(t)%batch_size)!= 0:\n",
    "            batch_data = np.zeros((batch_size,15,84,84,3)) # x is the number of images you use for each video, (y,z) is the final size of the input images and 3 is the number of channels RGB\n",
    "            batch_labels = np.zeros((batch_size,5)) # batch_labels is the one hot representation of the output\n",
    "            for folder in range(batch_size): # iterate over the batch_size\n",
    "                imgs = os.listdir(source_path+'/'+ t[folder + (batch*batch_size)].split(';')[0]) # read all the images in the folder for rem images\n",
    "                for idx,item in enumerate(img_idx): #  Iterate iver the frames/images of a folder to read them in the folder for rem images\n",
    "                    image = imread(source_path+'/'+ t[folder + (batch*batch_size)].strip().split(';')[0]+'/'+imgs[item]).astype(np.float32)\n",
    "                    \n",
    "                   \n",
    "                    if image.shape[1] == 160:\n",
    "                        image = imresize(image[:,20:140,:],(84,84)).astype(np.float32)\n",
    "                    else:\n",
    "                        image = imresize(image,(84,84)).astype(np.float32)\n",
    "                    \n",
    "                    batch_data[folder,idx,:,:,0] = image[:,:,0] - 104\n",
    "                    batch_data[folder,idx,:,:,1] = image[:,:,1] - 117\n",
    "                    batch_data[folder,idx,:,:,2] = image[:,:,2] - 123\n",
    "                    \n",
    "                    \n",
    "                batch_labels[folder, int(t[folder + (batch*batch_size)].strip().split(';')[2])] = 1\n",
    "            yield batch_data, batch_labels #you yield the batch_data and the batch_labels, remember what does yield do\n"
   ]
  },
  {
   "cell_type": "markdown",
   "metadata": {},
   "source": [
    "Note here that a video is represented above in the generator as (number of images, height, width, number of channels). Take this into consideration while creating the model architecture."
   ]
  },
  {
   "cell_type": "code",
   "execution_count": 6,
   "metadata": {},
   "outputs": [
    {
     "name": "stdout",
     "output_type": "stream",
     "text": [
      "# training sequences = 663\n",
      "# validation sequences = 100\n",
      "# epochs = 25\n"
     ]
    }
   ],
   "source": [
    "curr_dt_time = datetime.datetime.now()\n",
    "train_path = 'Project_data/train'\n",
    "val_path = 'Project_data/val'\n",
    "num_train_sequences = len(train_doc)\n",
    "print('# training sequences =', num_train_sequences)\n",
    "num_val_sequences = len(val_doc)\n",
    "print('# validation sequences =', num_val_sequences)\n",
    "num_epochs =25\n",
    "print ('# epochs =', num_epochs)"
   ]
  },
  {
   "cell_type": "markdown",
   "metadata": {},
   "source": [
    "## Model\n",
    "Here you make the model using different functionalities that Keras provides. Remember to use `Conv3D` and `MaxPooling3D` and not `Conv2D` and `Maxpooling2D` for a 3D convolution model. You would want to use `TimeDistributed` while building a Conv2D + RNN model. Also remember that the last layer is the softmax. Design the network in such a way that the model is able to give good accuracy on the least number of parameters so that it can fit in the memory of the webcam."
   ]
  },
  {
   "cell_type": "code",
   "execution_count": 7,
   "metadata": {},
   "outputs": [],
   "source": [
    "from tensorflow.keras.models import Sequential, Model\n",
    "from tensorflow.keras.layers import Dense, GRU, Flatten, TimeDistributed, Flatten, BatchNormalization, Activation, Dropout\n",
    "from tensorflow.keras.layers import Conv3D, MaxPooling3D\n",
    "from tensorflow.keras.callbacks import ModelCheckpoint, ReduceLROnPlateau\n",
    "from tensorflow.keras import optimizers\n",
    "\n",
    "#write your model here\n",
    "model = Sequential()\n",
    "\n",
    "model.add(Conv3D(64, #number of filters \n",
    "                 kernel_size=(3,3,3), \n",
    "                 input_shape=(15,84,84,3),\n",
    "                 padding='same'))\n",
    "model.add(BatchNormalization())\n",
    "model.add(Activation('elu'))\n",
    "\n",
    "model.add(MaxPooling3D(pool_size=(2,2,2)))\n",
    "\n",
    "model.add(Conv3D(128, #Number of filters, \n",
    "                 kernel_size=(3,3,3), \n",
    "                 padding='same'))\n",
    "model.add(BatchNormalization())\n",
    "model.add(Activation('elu'))\n",
    "\n",
    "model.add(Conv3D(128, #Number of filters \n",
    "                 kernel_size=(3,3,3), \n",
    "                 padding='same'))\n",
    "model.add(BatchNormalization())\n",
    "\n",
    "model.add(Activation('elu'))\n",
    "\n",
    "model.add(MaxPooling3D(pool_size=(2,2,2)))\n",
    "\n",
    "model.add(Conv3D(256, #Number pf filters \n",
    "                 kernel_size=(3,3,3), \n",
    "                 padding='same'))\n",
    "model.add(BatchNormalization())\n",
    "\n",
    "model.add(Activation('elu'))\n",
    "\n",
    "model.add(MaxPooling3D(pool_size=(2,2,2)))\n",
    "\n",
    "#Flatten Layers\n",
    "model.add(Flatten())\n",
    "\n",
    "model.add(Dense(125, activation='relu'))\n",
    "model.add(Dropout(0.5))\n",
    "\n",
    "model.add(Dense(500, activation='relu'))\n",
    "model.add(Dropout(0.5))\n",
    "\n",
    "\n",
    "#softmax layer\n",
    "model.add(Dense(5, activation='softmax'))\n"
   ]
  },
  {
   "cell_type": "markdown",
   "metadata": {},
   "source": [
    "\n",
    "\n",
    "Now that you have written the model, the next step is to `compile` the model. When you print the `summary` of the model, you'll see the total number of parameters you have to train."
   ]
  },
  {
   "cell_type": "code",
   "execution_count": 8,
   "metadata": {
    "scrolled": true
   },
   "outputs": [
    {
     "name": "stdout",
     "output_type": "stream",
     "text": [
      "Model: \"sequential\"\n",
      "_________________________________________________________________\n",
      "Layer (type)                 Output Shape              Param #   \n",
      "=================================================================\n",
      "conv3d (Conv3D)              (None, 15, 84, 84, 64)    5248      \n",
      "_________________________________________________________________\n",
      "batch_normalization (BatchNo (None, 15, 84, 84, 64)    256       \n",
      "_________________________________________________________________\n",
      "activation (Activation)      (None, 15, 84, 84, 64)    0         \n",
      "_________________________________________________________________\n",
      "max_pooling3d (MaxPooling3D) (None, 7, 42, 42, 64)     0         \n",
      "_________________________________________________________________\n",
      "conv3d_1 (Conv3D)            (None, 7, 42, 42, 128)    221312    \n",
      "_________________________________________________________________\n",
      "batch_normalization_1 (Batch (None, 7, 42, 42, 128)    512       \n",
      "_________________________________________________________________\n",
      "activation_1 (Activation)    (None, 7, 42, 42, 128)    0         \n",
      "_________________________________________________________________\n",
      "conv3d_2 (Conv3D)            (None, 7, 42, 42, 128)    442496    \n",
      "_________________________________________________________________\n",
      "batch_normalization_2 (Batch (None, 7, 42, 42, 128)    512       \n",
      "_________________________________________________________________\n",
      "activation_2 (Activation)    (None, 7, 42, 42, 128)    0         \n",
      "_________________________________________________________________\n",
      "max_pooling3d_1 (MaxPooling3 (None, 3, 21, 21, 128)    0         \n",
      "_________________________________________________________________\n",
      "conv3d_3 (Conv3D)            (None, 3, 21, 21, 256)    884992    \n",
      "_________________________________________________________________\n",
      "batch_normalization_3 (Batch (None, 3, 21, 21, 256)    1024      \n",
      "_________________________________________________________________\n",
      "activation_3 (Activation)    (None, 3, 21, 21, 256)    0         \n",
      "_________________________________________________________________\n",
      "max_pooling3d_2 (MaxPooling3 (None, 1, 10, 10, 256)    0         \n",
      "_________________________________________________________________\n",
      "flatten (Flatten)            (None, 25600)             0         \n",
      "_________________________________________________________________\n",
      "dense (Dense)                (None, 125)               3200125   \n",
      "_________________________________________________________________\n",
      "dropout (Dropout)            (None, 125)               0         \n",
      "_________________________________________________________________\n",
      "dense_1 (Dense)              (None, 500)               63000     \n",
      "_________________________________________________________________\n",
      "dropout_1 (Dropout)          (None, 500)               0         \n",
      "_________________________________________________________________\n",
      "dense_2 (Dense)              (None, 5)                 2505      \n",
      "=================================================================\n",
      "Total params: 4,821,982\n",
      "Trainable params: 4,820,830\n",
      "Non-trainable params: 1,152\n",
      "_________________________________________________________________\n",
      "None\n"
     ]
    }
   ],
   "source": [
    "optimiser = optimizers.SGD(lr=0.001)\n",
    "model.compile(optimizer=optimiser, loss='categorical_crossentropy', metrics=['categorical_accuracy'])\n",
    "print (model.summary())"
   ]
  },
  {
   "cell_type": "markdown",
   "metadata": {},
   "source": [
    "Let us create the `train_generator` and the `val_generator` which will be used in `.fit_generator`."
   ]
  },
  {
   "cell_type": "code",
   "execution_count": 9,
   "metadata": {},
   "outputs": [],
   "source": [
    "train_generator = generator(train_path, train_doc, batch_size)\n",
    "val_generator = generator(val_path, val_doc, batch_size)"
   ]
  },
  {
   "cell_type": "code",
   "execution_count": 10,
   "metadata": {},
   "outputs": [
    {
     "name": "stderr",
     "output_type": "stream",
     "text": [
      "WARNING: Logging before flag parsing goes to stderr.\n",
      "W0510 07:53:57.783280 140231089870656 callbacks.py:1071] `period` argument is deprecated. Please use `save_freq` to specify the frequency in number of batches seen.\n"
     ]
    }
   ],
   "source": [
    "model_name = 'model_init' + '_' + str(curr_dt_time).replace(' ','').replace(':','_') + '/'\n",
    "    \n",
    "if not os.path.exists(model_name):\n",
    "    os.mkdir(model_name)\n",
    "        \n",
    "filepath = model_name + 'model-{epoch:05d}-{loss:.5f}-{categorical_accuracy:.5f}-{val_loss:.5f}-{val_categorical_accuracy:.5f}.h5'\n",
    "\n",
    "checkpoint = ModelCheckpoint(filepath, monitor='val_loss', verbose=1, save_best_only=True, save_weights_only=False, mode='auto', period=1)\n",
    "\n",
    "LR = ReduceLROnPlateau(monitor='val_loss', factor=0.5, patience=10, cooldown=0, verbose=1,min_lr = 0)\n",
    "callbacks_list = [checkpoint, LR]"
   ]
  },
  {
   "cell_type": "markdown",
   "metadata": {},
   "source": [
    "The `steps_per_epoch` and `validation_steps` are used by `fit_generator` to decide the number of next() calls it need to make."
   ]
  },
  {
   "cell_type": "code",
   "execution_count": 11,
   "metadata": {},
   "outputs": [],
   "source": [
    "if (num_train_sequences%batch_size) == 0:\n",
    "    steps_per_epoch = int(num_train_sequences/batch_size)\n",
    "else:\n",
    "    steps_per_epoch = (num_train_sequences//batch_size) + 1\n",
    "\n",
    "if (num_val_sequences%batch_size) == 0:\n",
    "    validation_steps = int(num_val_sequences/batch_size)\n",
    "else:\n",
    "    validation_steps = (num_val_sequences//batch_size) + 1"
   ]
  },
  {
   "cell_type": "markdown",
   "metadata": {},
   "source": [
    "Let us now fit the model. This will start training the model and with the help of the checkpoints, you'll be able to save the model at the end of each epoch."
   ]
  },
  {
   "cell_type": "code",
   "execution_count": 12,
   "metadata": {
    "scrolled": true
   },
   "outputs": [
    {
     "name": "stderr",
     "output_type": "stream",
     "text": [
      "W0510 07:54:35.226814 140231089870656 deprecation.py:323] From <ipython-input-12-bd77c9c60c14>:3: Model.fit_generator (from tensorflow.python.keras.engine.training) is deprecated and will be removed in a future version.\n",
      "Instructions for updating:\n",
      "Please use Model.fit, which supports generators.\n",
      "/mnt/disks/user/anaconda3/lib/python3.7/site-packages/ipykernel_launcher.py:13: DeprecationWarning: `imread` is deprecated!\n",
      "`imread` is deprecated in SciPy 1.0.0, and will be removed in 1.2.0.\n",
      "Use ``imageio.imread`` instead.\n",
      "  del sys.path[0]\n"
     ]
    },
    {
     "name": "stdout",
     "output_type": "stream",
     "text": [
      "Source path =  Project_data/train ; batch size = 16\n"
     ]
    },
    {
     "name": "stderr",
     "output_type": "stream",
     "text": [
      "/mnt/disks/user/anaconda3/lib/python3.7/site-packages/ipykernel_launcher.py:19: DeprecationWarning: `imresize` is deprecated!\n",
      "`imresize` is deprecated in SciPy 1.0.0, and will be removed in 1.2.0.\n",
      "Use ``skimage.transform.resize`` instead.\n",
      "/mnt/disks/user/anaconda3/lib/python3.7/site-packages/ipykernel_launcher.py:21: DeprecationWarning: `imresize` is deprecated!\n",
      "`imresize` is deprecated in SciPy 1.0.0, and will be removed in 1.2.0.\n",
      "Use ``skimage.transform.resize`` instead.\n"
     ]
    },
    {
     "name": "stdout",
     "output_type": "stream",
     "text": [
      "Epoch 1/25\n",
      "40/42 [===========================>..] - ETA: 5s - loss: 1.7892 - categorical_accuracy: 0.2203"
     ]
    },
    {
     "name": "stderr",
     "output_type": "stream",
     "text": [
      "/mnt/disks/user/anaconda3/lib/python3.7/site-packages/ipykernel_launcher.py:39: DeprecationWarning: `imread` is deprecated!\n",
      "`imread` is deprecated in SciPy 1.0.0, and will be removed in 1.2.0.\n",
      "Use ``imageio.imread`` instead.\n",
      "/mnt/disks/user/anaconda3/lib/python3.7/site-packages/ipykernel_launcher.py:43: DeprecationWarning: `imresize` is deprecated!\n",
      "`imresize` is deprecated in SciPy 1.0.0, and will be removed in 1.2.0.\n",
      "Use ``skimage.transform.resize`` instead.\n",
      "/mnt/disks/user/anaconda3/lib/python3.7/site-packages/ipykernel_launcher.py:45: DeprecationWarning: `imresize` is deprecated!\n",
      "`imresize` is deprecated in SciPy 1.0.0, and will be removed in 1.2.0.\n",
      "Use ``skimage.transform.resize`` instead.\n"
     ]
    },
    {
     "name": "stdout",
     "output_type": "stream",
     "text": [
      "42/42 [==============================] - ETA: 0s - loss: 1.7845 - categorical_accuracy: 0.2232Source path =  Project_data/val ; batch size = 16\n",
      "\n",
      "Epoch 00001: val_loss improved from inf to 1.54416, saving model to model_init_2021-05-1007_53_23.548955/model-00001-1.78453-0.22321-1.54416-0.22321.h5\n",
      "42/42 [==============================] - 142s 3s/step - loss: 1.7845 - categorical_accuracy: 0.2232 - val_loss: 1.5442 - val_categorical_accuracy: 0.2232 - lr: 0.0010\n",
      "Epoch 2/25\n",
      "42/42 [==============================] - ETA: 0s - loss: 1.5178 - categorical_accuracy: 0.3199\n",
      "Epoch 00002: val_loss improved from 1.54416 to 1.51225, saving model to model_init_2021-05-1007_53_23.548955/model-00002-1.51777-0.31994-1.51225-0.24107.h5\n",
      "42/42 [==============================] - 57s 1s/step - loss: 1.5178 - categorical_accuracy: 0.3199 - val_loss: 1.5123 - val_categorical_accuracy: 0.2411 - lr: 0.0010\n",
      "Epoch 3/25\n",
      "42/42 [==============================] - ETA: 0s - loss: 1.4276 - categorical_accuracy: 0.3750\n",
      "Epoch 00003: val_loss improved from 1.51225 to 1.33278, saving model to model_init_2021-05-1007_53_23.548955/model-00003-1.42764-0.37500-1.33278-0.55357.h5\n",
      "42/42 [==============================] - 55s 1s/step - loss: 1.4276 - categorical_accuracy: 0.3750 - val_loss: 1.3328 - val_categorical_accuracy: 0.5536 - lr: 0.0010\n",
      "Epoch 4/25\n",
      "42/42 [==============================] - ETA: 0s - loss: 1.3302 - categorical_accuracy: 0.4435\n",
      "Epoch 00004: val_loss improved from 1.33278 to 1.32899, saving model to model_init_2021-05-1007_53_23.548955/model-00004-1.33015-0.44345-1.32899-0.47321.h5\n",
      "42/42 [==============================] - 55s 1s/step - loss: 1.3302 - categorical_accuracy: 0.4435 - val_loss: 1.3290 - val_categorical_accuracy: 0.4732 - lr: 0.0010\n",
      "Epoch 5/25\n",
      "42/42 [==============================] - ETA: 0s - loss: 1.2948 - categorical_accuracy: 0.4598\n",
      "Epoch 00005: val_loss improved from 1.32899 to 1.21178, saving model to model_init_2021-05-1007_53_23.548955/model-00005-1.29483-0.45982-1.21178-0.54464.h5\n",
      "42/42 [==============================] - 54s 1s/step - loss: 1.2948 - categorical_accuracy: 0.4598 - val_loss: 1.2118 - val_categorical_accuracy: 0.5446 - lr: 0.0010\n",
      "Epoch 6/25\n",
      "42/42 [==============================] - ETA: 0s - loss: 1.2555 - categorical_accuracy: 0.4598\n",
      "Epoch 00006: val_loss improved from 1.21178 to 1.14802, saving model to model_init_2021-05-1007_53_23.548955/model-00006-1.25554-0.45982-1.14802-0.55357.h5\n",
      "42/42 [==============================] - 54s 1s/step - loss: 1.2555 - categorical_accuracy: 0.4598 - val_loss: 1.1480 - val_categorical_accuracy: 0.5536 - lr: 0.0010\n",
      "Epoch 7/25\n",
      "42/42 [==============================] - ETA: 0s - loss: 1.1841 - categorical_accuracy: 0.5104\n",
      "Epoch 00007: val_loss did not improve from 1.14802\n",
      "42/42 [==============================] - 55s 1s/step - loss: 1.1841 - categorical_accuracy: 0.5104 - val_loss: 1.1580 - val_categorical_accuracy: 0.6071 - lr: 0.0010\n",
      "Epoch 8/25\n",
      "42/42 [==============================] - ETA: 0s - loss: 1.1381 - categorical_accuracy: 0.5357\n",
      "Epoch 00008: val_loss improved from 1.14802 to 1.01825, saving model to model_init_2021-05-1007_53_23.548955/model-00008-1.13813-0.53571-1.01825-0.68750.h5\n",
      "42/42 [==============================] - 55s 1s/step - loss: 1.1381 - categorical_accuracy: 0.5357 - val_loss: 1.0183 - val_categorical_accuracy: 0.6875 - lr: 0.0010\n",
      "Epoch 9/25\n",
      "42/42 [==============================] - ETA: 0s - loss: 1.0424 - categorical_accuracy: 0.5774\n",
      "Epoch 00009: val_loss improved from 1.01825 to 1.01745, saving model to model_init_2021-05-1007_53_23.548955/model-00009-1.04240-0.57738-1.01745-0.57143.h5\n",
      "42/42 [==============================] - 54s 1s/step - loss: 1.0424 - categorical_accuracy: 0.5774 - val_loss: 1.0174 - val_categorical_accuracy: 0.5714 - lr: 0.0010\n",
      "Epoch 10/25\n",
      "42/42 [==============================] - ETA: 0s - loss: 1.0037 - categorical_accuracy: 0.6101\n",
      "Epoch 00010: val_loss improved from 1.01745 to 0.98070, saving model to model_init_2021-05-1007_53_23.548955/model-00010-1.00365-0.61012-0.98070-0.60714.h5\n",
      "42/42 [==============================] - 55s 1s/step - loss: 1.0037 - categorical_accuracy: 0.6101 - val_loss: 0.9807 - val_categorical_accuracy: 0.6071 - lr: 0.0010\n",
      "Epoch 11/25\n",
      "42/42 [==============================] - ETA: 0s - loss: 0.9767 - categorical_accuracy: 0.6220\n",
      "Epoch 00011: val_loss improved from 0.98070 to 0.92288, saving model to model_init_2021-05-1007_53_23.548955/model-00011-0.97671-0.62202-0.92288-0.61607.h5\n",
      "42/42 [==============================] - 54s 1s/step - loss: 0.9767 - categorical_accuracy: 0.6220 - val_loss: 0.9229 - val_categorical_accuracy: 0.6161 - lr: 0.0010\n",
      "Epoch 12/25\n",
      "42/42 [==============================] - ETA: 0s - loss: 0.9148 - categorical_accuracy: 0.6339\n",
      "Epoch 00012: val_loss improved from 0.92288 to 0.82861, saving model to model_init_2021-05-1007_53_23.548955/model-00012-0.91484-0.63393-0.82861-0.68750.h5\n",
      "42/42 [==============================] - 55s 1s/step - loss: 0.9148 - categorical_accuracy: 0.6339 - val_loss: 0.8286 - val_categorical_accuracy: 0.6875 - lr: 0.0010\n",
      "Epoch 13/25\n",
      "42/42 [==============================] - ETA: 0s - loss: 0.9087 - categorical_accuracy: 0.6414\n",
      "Epoch 00013: val_loss did not improve from 0.82861\n",
      "42/42 [==============================] - 54s 1s/step - loss: 0.9087 - categorical_accuracy: 0.6414 - val_loss: 0.9800 - val_categorical_accuracy: 0.6875 - lr: 0.0010\n",
      "Epoch 14/25\n",
      "42/42 [==============================] - ETA: 0s - loss: 0.8388 - categorical_accuracy: 0.6756\n",
      "Epoch 00014: val_loss did not improve from 0.82861\n",
      "42/42 [==============================] - 54s 1s/step - loss: 0.8388 - categorical_accuracy: 0.6756 - val_loss: 0.9231 - val_categorical_accuracy: 0.6786 - lr: 0.0010\n",
      "Epoch 15/25\n",
      "42/42 [==============================] - ETA: 0s - loss: 0.7816 - categorical_accuracy: 0.7113\n",
      "Epoch 00015: val_loss improved from 0.82861 to 0.82301, saving model to model_init_2021-05-1007_53_23.548955/model-00015-0.78161-0.71131-0.82301-0.69643.h5\n",
      "42/42 [==============================] - 54s 1s/step - loss: 0.7816 - categorical_accuracy: 0.7113 - val_loss: 0.8230 - val_categorical_accuracy: 0.6964 - lr: 0.0010\n",
      "Epoch 16/25\n",
      "42/42 [==============================] - ETA: 0s - loss: 0.7701 - categorical_accuracy: 0.6949\n",
      "Epoch 00016: val_loss improved from 0.82301 to 0.76074, saving model to model_init_2021-05-1007_53_23.548955/model-00016-0.77009-0.69494-0.76074-0.66071.h5\n",
      "42/42 [==============================] - 54s 1s/step - loss: 0.7701 - categorical_accuracy: 0.6949 - val_loss: 0.7607 - val_categorical_accuracy: 0.6607 - lr: 0.0010\n",
      "Epoch 17/25\n",
      "42/42 [==============================] - ETA: 0s - loss: 0.7738 - categorical_accuracy: 0.6994\n",
      "Epoch 00017: val_loss did not improve from 0.76074\n",
      "42/42 [==============================] - 54s 1s/step - loss: 0.7738 - categorical_accuracy: 0.6994 - val_loss: 0.8255 - val_categorical_accuracy: 0.6875 - lr: 0.0010\n",
      "Epoch 18/25\n",
      "42/42 [==============================] - ETA: 0s - loss: 0.7779 - categorical_accuracy: 0.7054\n",
      "Epoch 00018: val_loss did not improve from 0.76074\n",
      "42/42 [==============================] - 54s 1s/step - loss: 0.7779 - categorical_accuracy: 0.7054 - val_loss: 0.7756 - val_categorical_accuracy: 0.7500 - lr: 0.0010\n",
      "Epoch 19/25\n",
      "42/42 [==============================] - ETA: 0s - loss: 0.6948 - categorical_accuracy: 0.7530\n",
      "Epoch 00019: val_loss did not improve from 0.76074\n",
      "42/42 [==============================] - 54s 1s/step - loss: 0.6948 - categorical_accuracy: 0.7530 - val_loss: 0.9724 - val_categorical_accuracy: 0.7232 - lr: 0.0010\n",
      "Epoch 20/25\n",
      "42/42 [==============================] - ETA: 0s - loss: 0.6963 - categorical_accuracy: 0.7426\n",
      "Epoch 00020: val_loss did not improve from 0.76074\n",
      "42/42 [==============================] - 54s 1s/step - loss: 0.6963 - categorical_accuracy: 0.7426 - val_loss: 0.7645 - val_categorical_accuracy: 0.6518 - lr: 0.0010\n",
      "Epoch 21/25\n",
      "42/42 [==============================] - ETA: 0s - loss: 0.5675 - categorical_accuracy: 0.7976\n",
      "Epoch 00021: val_loss improved from 0.76074 to 0.73554, saving model to model_init_2021-05-1007_53_23.548955/model-00021-0.56754-0.79762-0.73554-0.70536.h5\n",
      "42/42 [==============================] - 54s 1s/step - loss: 0.5675 - categorical_accuracy: 0.7976 - val_loss: 0.7355 - val_categorical_accuracy: 0.7054 - lr: 0.0010\n"
     ]
    },
    {
     "name": "stdout",
     "output_type": "stream",
     "text": [
      "Epoch 22/25\n",
      "42/42 [==============================] - ETA: 0s - loss: 0.5768 - categorical_accuracy: 0.8036\n",
      "Epoch 00022: val_loss improved from 0.73554 to 0.68797, saving model to model_init_2021-05-1007_53_23.548955/model-00022-0.57675-0.80357-0.68797-0.70536.h5\n",
      "42/42 [==============================] - 54s 1s/step - loss: 0.5768 - categorical_accuracy: 0.8036 - val_loss: 0.6880 - val_categorical_accuracy: 0.7054 - lr: 0.0010\n",
      "Epoch 23/25\n",
      "42/42 [==============================] - ETA: 0s - loss: 0.6140 - categorical_accuracy: 0.7798\n",
      "Epoch 00023: val_loss did not improve from 0.68797\n",
      "42/42 [==============================] - 54s 1s/step - loss: 0.6140 - categorical_accuracy: 0.7798 - val_loss: 0.7243 - val_categorical_accuracy: 0.6786 - lr: 0.0010\n",
      "Epoch 24/25\n",
      "42/42 [==============================] - ETA: 0s - loss: 0.4718 - categorical_accuracy: 0.8423\n",
      "Epoch 00024: val_loss did not improve from 0.68797\n",
      "42/42 [==============================] - 54s 1s/step - loss: 0.4718 - categorical_accuracy: 0.8423 - val_loss: 0.7455 - val_categorical_accuracy: 0.6964 - lr: 0.0010\n",
      "Epoch 25/25\n",
      "42/42 [==============================] - ETA: 0s - loss: 0.4870 - categorical_accuracy: 0.8229\n",
      "Epoch 00025: val_loss improved from 0.68797 to 0.59982, saving model to model_init_2021-05-1007_53_23.548955/model-00025-0.48703-0.82292-0.59982-0.78571.h5\n",
      "42/42 [==============================] - 55s 1s/step - loss: 0.4870 - categorical_accuracy: 0.8229 - val_loss: 0.5998 - val_categorical_accuracy: 0.7857 - lr: 0.0010\n"
     ]
    },
    {
     "data": {
      "text/plain": [
       "<tensorflow.python.keras.callbacks.History at 0x7f89801ad518>"
      ]
     },
     "execution_count": 12,
     "metadata": {},
     "output_type": "execute_result"
    }
   ],
   "source": [
    "model.fit_generator(train_generator, steps_per_epoch=steps_per_epoch, epochs=num_epochs, verbose=1, \n",
    "                    callbacks=callbacks_list, validation_data=val_generator, \n",
    "                    validation_steps=validation_steps, class_weight=None, workers=1, initial_epoch=0)"
   ]
  },
  {
   "cell_type": "code",
   "execution_count": null,
   "metadata": {},
   "outputs": [],
   "source": []
  },
  {
   "cell_type": "code",
   "execution_count": null,
   "metadata": {},
   "outputs": [],
   "source": []
  }
 ],
 "metadata": {
  "kernelspec": {
   "display_name": "Python 3",
   "language": "python",
   "name": "python3"
  },
  "language_info": {
   "codemirror_mode": {
    "name": "ipython",
    "version": 3
   },
   "file_extension": ".py",
   "mimetype": "text/x-python",
   "name": "python",
   "nbconvert_exporter": "python",
   "pygments_lexer": "ipython3",
   "version": "3.8.5"
  }
 },
 "nbformat": 4,
 "nbformat_minor": 2
}
